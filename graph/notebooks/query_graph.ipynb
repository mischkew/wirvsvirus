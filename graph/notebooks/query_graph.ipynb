{
 "cells": [
  {
   "cell_type": "code",
   "execution_count": 10,
   "metadata": {},
   "outputs": [],
   "source": [
    "import osmnx as ox\n",
    "import networkx as nx\n",
    "from sklearn.neighbors import KDTree\n",
    "import matplotlib.pyplot as plt\n",
    "import numpy as np\n",
    "import json\n",
    "import hashlib \n"
   ]
  },
  {
   "cell_type": "code",
   "execution_count": 11,
   "metadata": {},
   "outputs": [],
   "source": [
    "# distance from station for which adjacent nodes should be retrieved\n",
    "distance=100"
   ]
  },
  {
   "cell_type": "code",
   "execution_count": 12,
   "metadata": {},
   "outputs": [],
   "source": [
    "def get_central_node(graph,lat, long,distance=100):\n",
    "    \"\"\"given a geocoded loction and a graph return \n",
    "        find the node closests to the location \"\"\"\n",
    "    graph_df,_ = ox.graph_to_gdfs(graph)\n",
    "    graph_tree = KDTree(graph_df[['y', 'x']], metric='euclidean')\n",
    "    adress_idx = graph_tree.query([(lat,long)], k=1, return_distance=False)[0]\n",
    "    closest_node = graph_df.iloc[adress_idx].index.values[0]\n",
    "    return closest_node\n",
    "\n",
    "    "
   ]
  },
  {
   "cell_type": "code",
   "execution_count": 13,
   "metadata": {},
   "outputs": [],
   "source": [
    "def open_json(file_path):\n",
    "    with open(file_path) as file:\n",
    "        data_dict = json.loads(file.read())\n",
    "    return data_dict\n",
    "    "
   ]
  },
  {
   "cell_type": "code",
   "execution_count": 14,
   "metadata": {},
   "outputs": [],
   "source": [
    "def get_neighbourhood(graph):\n",
    "    '''extract the lat long locations'''\n",
    "    lats = [float(y) for _, y in graph.nodes(data='y')]\n",
    "    lngs = [float(x) for _, x in graph.nodes(data='x')]\n",
    "    return zip(lats, lngs)"
   ]
  },
  {
   "cell_type": "code",
   "execution_count": 15,
   "metadata": {},
   "outputs": [],
   "source": [
    "def process_graph(graph, data_dict):\n",
    "    \"\"\"process a single graph, getting all adjacent nodes and \n",
    "    and  add them to a the dictionary mapping the stations\"\"\"\n",
    "    \n",
    "#     getting all information from the graph object\n",
    "    zipper = get_neighbourhood(graph)\n",
    "    nodes = list(graph.nodes)\n",
    "    lat_n_longs = list(zipper)\n",
    "    \n",
    "#     mapping adjacent streets\n",
    "    \n",
    "    adj_list = list(graph.adjacency())\n",
    "    for i, node in enumerate(nodes):\n",
    "        data_dict['stations'][str(node)]={}\n",
    "        data_dict['stations'][str(node)]['type'] = 'street'\n",
    "        data_dict['stations'][str(node)]['lat'] = lat_n_longs[i][0]\n",
    "        data_dict['stations'][str(node)]['lng'] = lat_n_longs[i][1]\n",
    "        data_dict['stations'][str(node)]['next_stops'] = list(adj_list[i][1].keys())\n",
    "    \n",
    "    return"
   ]
  },
  {
   "cell_type": "code",
   "execution_count": 34,
   "metadata": {},
   "outputs": [],
   "source": [
    "def process_stations(file_path, new_file,distance=100):\n",
    "    \"\"\"processing all stations from the input file\"\"\"\n",
    "#     opening the json and converting to dict\n",
    "    data_dict = open_json(file_path)\n",
    "    temp_dict = {'stations':{}}\n",
    "    for key in data_dict['stations'].keys():\n",
    "#         creating the graph and finding the closes node to the station and appending it\n",
    "        \n",
    "        lat=data_dict['stations'][key]['lat']\n",
    "        long=data_dict['stations'][key]['lng']\n",
    "        graph=ox.core.graph_from_point((lat,long), distance=distance)\n",
    "        central_node=get_central_node(graph, lat, long)\n",
    "        data_dict['stations'][key]['next_stops'].append(central_node)\n",
    "        \n",
    "        process_graph(graph,temp_dict)    \n",
    "        temp_dict['stations'][str(central_node)]['next_stops'].append(key)\n",
    "        return temp_dict,central_node, graph\n",
    "        \n",
    "    data_dict['stations'].update(temp_dict['stations'])\n",
    "    \n",
    "    with open(new_file,'w') as file:\n",
    "        data_dict_as_json=json.dump(data_dict,file,default=str)\n",
    "            "
   ]
  },
  {
   "cell_type": "code",
   "execution_count": 76,
   "metadata": {},
   "outputs": [],
   "source": [
    "def process_stations_debug(file_path, new_file,distance=100):\n",
    "    \"\"\"processing all stations from the input file\"\"\"\n",
    "#     opening the json and converting to dict\n",
    "    data_dict = open_json(file_path)\n",
    "    temp_dict = {'stations':{}}\n",
    "    for key in data_dict['stations'].keys():\n",
    "#         creating the graph and finding the closes node to the station and appending it\n",
    "        print(key)\n",
    "        lat=data_dict['stations'][key]['lat']\n",
    "        long=data_dict['stations'][key]['lng']\n",
    "        graph=ox.core.graph_from_point((lat,long), distance=distance)\n",
    "        central_node=get_central_node(graph, lat, long)\n",
    "        data_dict['stations'][key]['next_stops'].append(central_node)\n",
    "        \n",
    "        process_graph(graph,temp_dict)    \n",
    "        temp_dict['stations'][str(central_node)]['next_stops'].append(key)\n",
    "        \n",
    "        return temp_dict,central_node, graph\n",
    "        \n",
    "    data_dict['stations'].update(temp_dict['stations'])\n",
    "    \n",
    "    with open(new_file,'w') as file:\n",
    "        data_dict_as_json=json.dump(data_dict,file,default=str)\n",
    "            "
   ]
  },
  {
   "cell_type": "code",
   "execution_count": null,
   "metadata": {},
   "outputs": [],
   "source": []
  },
  {
   "cell_type": "code",
   "execution_count": 77,
   "metadata": {
    "scrolled": false
   },
   "outputs": [
    {
     "name": "stdout",
     "output_type": "stream",
     "text": [
      "2094266776\n"
     ]
    }
   ],
   "source": [
    "data,node,g=process_stations_debug('data/test.json','data/test_out.json')"
   ]
  },
  {
   "cell_type": "code",
   "execution_count": 36,
   "metadata": {
    "scrolled": false
   },
   "outputs": [
    {
     "data": {
      "text/plain": [
       "{'type': 'street',\n",
       " 'lat': 52.5216906,\n",
       " 'lng': 13.4140824,\n",
       " 'next_stops': [4934187009, 2777153528, 2777153497, '2094266776']}"
      ]
     },
     "execution_count": 36,
     "metadata": {},
     "output_type": "execute_result"
    }
   ],
   "source": [
    "data['stations'][str(node)]"
   ]
  },
  {
   "cell_type": "code",
   "execution_count": 125,
   "metadata": {},
   "outputs": [
    {
     "name": "stdout",
     "output_type": "stream",
     "text": [
      "3810179831\n",
      "2777153497\n",
      "2777153451\n",
      "2777153445\n",
      "2777153497\n",
      "2777153508\n",
      "2777153497\n",
      "3810179831\n"
     ]
    }
   ],
   "source": [
    "hops=np.random.randint(3,10)\n",
    "hop=0\n",
    "path=[]\n",
    "station=str(2094266776)\n",
    "start=node\n",
    "current_node=start\n",
    "while hop <= hops: \n",
    "    print(current_node)\n",
    "    next_node = np.random.choice(data['stations'][str(current_node)]['next_stops'])\n",
    "    while next_node == station:\n",
    "        if len(data['stations'][str(current_node)]['next_stops']):\n",
    "            break\n",
    "        else:\n",
    "            np.random.choice(data['stations'][str(current_node)]['next_stops'])\n",
    "    path.append(current_node)\n",
    "    current_node = next_node\n",
    "    hop = hop+1"
   ]
  },
  {
   "cell_type": "code",
   "execution_count": 120,
   "metadata": {},
   "outputs": [
    {
     "data": {
      "text/plain": [
       "[3810179831,\n",
       " '2777153528',\n",
       " 4947074226,\n",
       " 2777153459,\n",
       " 2777153457,\n",
       " 2777153459,\n",
       " 2777153457]"
      ]
     },
     "execution_count": 120,
     "metadata": {},
     "output_type": "execute_result"
    }
   ],
   "source": [
    "path"
   ]
  },
  {
   "cell_type": "code",
   "execution_count": 62,
   "metadata": {},
   "outputs": [
    {
     "data": {
      "text/plain": [
       "1"
      ]
     },
     "execution_count": 62,
     "metadata": {},
     "output_type": "execute_result"
    }
   ],
   "source": [
    "hop"
   ]
  },
  {
   "cell_type": "code",
   "execution_count": null,
   "metadata": {},
   "outputs": [],
   "source": []
  }
 ],
 "metadata": {
  "kernelspec": {
   "display_name": "virus",
   "language": "python",
   "name": "wirvsvirus"
  },
  "language_info": {
   "codemirror_mode": {
    "name": "ipython",
    "version": 3
   },
   "file_extension": ".py",
   "mimetype": "text/x-python",
   "name": "python",
   "nbconvert_exporter": "python",
   "pygments_lexer": "ipython3",
   "version": "3.7.4"
  }
 },
 "nbformat": 4,
 "nbformat_minor": 2
}
