{
 "cells": [
  {
   "cell_type": "code",
   "execution_count": 1,
   "metadata": {},
   "outputs": [],
   "source": [
    "import osmnx as ox\n",
    "import networkx as nx\n",
    "from sklearn.neighbors import KDTree\n",
    "import matplotlib.pyplot as plt\n",
    "import numpy as np\n",
    "import json\n",
    "import hashlib \n"
   ]
  },
  {
   "cell_type": "code",
   "execution_count": 11,
   "metadata": {},
   "outputs": [],
   "source": [
    "# distance from station for which adjacent nodes should be retrieved\n",
    "distance=100"
   ]
  },
  {
   "cell_type": "code",
   "execution_count": 24,
   "metadata": {},
   "outputs": [],
   "source": [
    "def get_central_node(graph,lat, long,distance=100):\n",
    "    \"\"\"given a geocoded loction and a graph return \n",
    "        find the node closests to the location \"\"\"\n",
    "    graph_df,_ = ox.graph_to_gdfs(graph)\n",
    "    graph_tree = KDTree(graph_df[['y', 'x']], metric='euclidean')\n",
    "    adress_idx = graph_tree.query([(lat,long)], k=1, return_distance=False)[0]\n",
    "    closest_node = graph_df.iloc[adress_idx].index.values[0]\n",
    "    return closest_node\n",
    "\n",
    "    "
   ]
  },
  {
   "cell_type": "code",
   "execution_count": 25,
   "metadata": {},
   "outputs": [],
   "source": [
    "def open_json(file_path):\n",
    "    with open(file_path) as file:\n",
    "        data_dict = json.loads(file.read())\n",
    "    return data_dict\n",
    "    "
   ]
  },
  {
   "cell_type": "code",
   "execution_count": 26,
   "metadata": {},
   "outputs": [],
   "source": [
    "def get_neighbourhood(graph):\n",
    "    '''extract the lat long locations'''\n",
    "    lats = [float(y) for _, y in graph.nodes(data='y')]\n",
    "    lngs = [float(x) for _, x in graph.nodes(data='x')]\n",
    "    return zip(lats, lngs)"
   ]
  },
  {
   "cell_type": "code",
   "execution_count": 27,
   "metadata": {},
   "outputs": [],
   "source": [
    "def process_graph(graph, data_dict):\n",
    "    \"\"\"process a single graph, getting all adjacent nodes and \n",
    "    and  add them to a the dictionary mapping the stations\"\"\"\n",
    "    \n",
    "#     getting all information from the graph object\n",
    "    zipper = get_neighbourhood(graph)\n",
    "    nodes = list(graph.nodes)\n",
    "    lat_n_longs = list(zipper)\n",
    "    \n",
    "#     mapping adjacent streets\n",
    "    \n",
    "    adj_list = list(graph.adjacency())\n",
    "    for i, node in enumerate(nodes):\n",
    "        data_dict['stations'][str(node)]={}\n",
    "        data_dict['stations'][str(node)]['type'] = 'street'\n",
    "        data_dict['stations'][str(node)]['lat'] = lat_n_longs[i][0]\n",
    "        data_dict['stations'][str(node)]['lng'] = lat_n_longs[i][1]\n",
    "        data_dict['stations'][str(node)]['next_stops'] = list(adj_list[i][1].keys())\n",
    "    \n",
    "    return"
   ]
  },
  {
   "cell_type": "code",
   "execution_count": 28,
   "metadata": {},
   "outputs": [],
   "source": [
    "def process_stations(file_path, new_file,distance=100):\n",
    "    \"\"\"processing all stations from the input file\"\"\"\n",
    "#     opening the json and converting to dict\n",
    "    data_dict = open_json(file_path)\n",
    "    temp_dict = {'stations':{}}\n",
    "    for key in data_dict['stations'].keys():\n",
    "#         creating the graph and finding the closes node to the station and appending it\n",
    "        \n",
    "        lat=data_dict['stations'][key]['lat']\n",
    "        long=data_dict['stations'][key]['lng']\n",
    "        graph=ox.core.graph_from_point((lat,long), distance=distance)\n",
    "        central_node=get_central_node(graph, lat, long)\n",
    "        data_dict['stations'][key]['next_stops'].append(central_node)\n",
    "        \n",
    "        process_graph(graph,temp_dict)    \n",
    "        temp_dict['stations'][str(central_node)]['next_stops'].append(key)\n",
    "        return temp_dict,central_node, graph\n",
    "        \n",
    "    data_dict['stations'].update(temp_dict['stations'])\n",
    "    \n",
    "    with open(new_file,'w') as file:\n",
    "        data_dict_as_json=json.dump(data_dict,file,default=str)\n",
    "            "
   ]
  },
  {
   "cell_type": "code",
   "execution_count": 76,
   "metadata": {},
   "outputs": [],
   "source": [
    "def process_stations_debug(file_path, new_file,distance=100):\n",
    "    \"\"\"processing all stations from the input file\"\"\"\n",
    "#     opening the json and converting to dict\n",
    "    data_dict = open_json(file_path)\n",
    "    temp_dict = {'stations':{}}\n",
    "    for key in data_dict['stations'].keys():\n",
    "#         creating the graph and finding the closes node to the station and appending it\n",
    "        print(key)\n",
    "        lat=data_dict['stations'][key]['lat']\n",
    "        long=data_dict['stations'][key]['lng']\n",
    "        graph=ox.core.graph_from_point((lat,long), distance=distance)\n",
    "        central_node=get_central_node(graph, lat, long)\n",
    "        data_dict['stations'][key]['next_stops'].append(central_node)\n",
    "        \n",
    "        process_graph(graph,temp_dict)    \n",
    "        temp_dict['stations'][str(central_node)]['next_stops'].append(key)\n",
    "        \n",
    "        return temp_dict,central_node, graph\n",
    "        \n",
    "    data_dict['stations'].update(temp_dict['stations'])\n",
    "    \n",
    "    with open(new_file,'w') as file:\n",
    "        data_dict_as_json=json.dump(data_dict,file,default=str)\n",
    "            "
   ]
  },
  {
   "cell_type": "code",
   "execution_count": null,
   "metadata": {},
   "outputs": [],
   "source": []
  },
  {
   "cell_type": "code",
   "execution_count": 77,
   "metadata": {
    "scrolled": false
   },
   "outputs": [
    {
     "name": "stdout",
     "output_type": "stream",
     "text": [
      "2094266776\n"
     ]
    }
   ],
   "source": [
    "data,node,g=process_stations_debug('data/test.json','data/test_out.json')"
   ]
  },
  {
   "cell_type": "code",
   "execution_count": 4,
   "metadata": {
    "scrolled": false
   },
   "outputs": [],
   "source": [
    "with open ('stations-large.json') as f:\n",
    "    data=f.read()"
   ]
  },
  {
   "cell_type": "code",
   "execution_count": 9,
   "metadata": {},
   "outputs": [],
   "source": [
    "data=json.loads(data)"
   ]
  },
  {
   "cell_type": "code",
   "execution_count": 125,
   "metadata": {},
   "outputs": [
    {
     "name": "stdout",
     "output_type": "stream",
     "text": [
      "3810179831\n",
      "2777153497\n",
      "2777153451\n",
      "2777153445\n",
      "2777153497\n",
      "2777153508\n",
      "2777153497\n",
      "3810179831\n"
     ]
    }
   ],
   "source": [
    "hops=np.random.randint(3,10)\n",
    "hop=0\n",
    "path=[]\n",
    "station=str(2094266776)\n",
    "start=node\n",
    "current_node=start\n",
    "while hop <= hops: \n",
    "    print(current_node)\n",
    "    next_node = np.random.choice(data['stations'][str(current_node)]['next_stops'])\n",
    "    while next_node == station:\n",
    "        if len(data['stations'][str(current_node)]['next_stops']):\n",
    "            break\n",
    "        else:\n",
    "            np.random.choice(data['stations'][str(current_node)]['next_stops'])\n",
    "    path.append(current_node)\n",
    "    current_node = next_node\n",
    "    hop = hop+1"
   ]
  },
  {
   "cell_type": "code",
   "execution_count": 165,
   "metadata": {},
   "outputs": [],
   "source": [
    "def prune_nodes(central_node,nodes, adj_list,lat_n_longs,n_paths=20, max_hops=20):\n",
    "    start = central_node\n",
    "    paths = []\n",
    "    for i in range(n_paths):\n",
    "        hop =0\n",
    "        hops = max_hops\n",
    "        current_node =start\n",
    "        while hop <=hops:\n",
    "            node_index = nodes.index(current_node)\n",
    "            next_node = np.random.choice(list(adj_list[node_index][1].keys()))\n",
    "            paths.append(current_node)\n",
    "            current_node = next_node\n",
    "            hop = hop+1\n",
    "    set_path=set(paths)\n",
    "    \n",
    "    nodes_to_keep = [node for node in nodes if node in set_path]\n",
    "    nodes_to_keep_indexes = [nodes.index(node) for node in nodes_to_keep]\n",
    "    print(nodes_to_keep)\n",
    "    pruned_adj_list = [adj_list[index] for index in nodes_to_keep_indexes]\n",
    "    pruned_lat_n_longs = [lat_n_longs[index] for index in nodes_to_keep_indexes]\n",
    "    \n",
    "    return nodes_to_keep,pruned_adj_list,pruned_lat_n_longs\n",
    "    "
   ]
  },
  {
   "cell_type": "code",
   "execution_count": 183,
   "metadata": {},
   "outputs": [],
   "source": [
    "def process_graph_test(graph, data_dict, central_node, max_hops=10,n_paths=2):\n",
    "    \"\"\"process a single graph, getting all adjacent nodes and \n",
    "    and  add them to a the dictionary mapping the stations\"\"\"\n",
    "    \n",
    "#     getting all information from the graph object\n",
    "    zipper = get_neighbourhood(graph)\n",
    "    nodes = list(graph.nodes)\n",
    "    lat_n_longs = list(zipper)\n",
    "    \n",
    "#     mapping adjacent streets\n",
    "    \n",
    "    adj_list = list(graph.adjacency())\n",
    "    \n",
    "    \n",
    "#     pruning the nodes\n",
    "    \n",
    "    nodes,adj_list,lat_n_longs=prune_nodes(central_node,nodes,adj_list,lat_n_longs,n_paths,max_hops)\n",
    "    \n",
    "    \n",
    "    for i, node in enumerate(nodes):\n",
    "        data_dict['stations'][str(node)]={}\n",
    "        data_dict['stations'][str(node)]['type'] = 'street'\n",
    "        data_dict['stations'][str(node)]['lat'] = lat_n_longs[i][0]\n",
    "        data_dict['stations'][str(node)]['lng'] = lat_n_longs[i][1]\n",
    "#         data_dict['stations'][str(node)]['next_stops'] = list(adj_list[i][1].keys())\n",
    "        data_dict['stations'][str(node)]['next_stops'] = [element for element in list(adj_list[i][1].keys()) if element in nodes]\n",
    "        \n",
    "    \n",
    "    \n",
    "    \n",
    "    return "
   ]
  },
  {
   "cell_type": "code",
   "execution_count": null,
   "metadata": {},
   "outputs": [],
   "source": []
  },
  {
   "cell_type": "code",
   "execution_count": null,
   "metadata": {},
   "outputs": [],
   "source": []
  },
  {
   "cell_type": "code",
   "execution_count": null,
   "metadata": {},
   "outputs": [],
   "source": []
  },
  {
   "cell_type": "code",
   "execution_count": null,
   "metadata": {},
   "outputs": [],
   "source": []
  },
  {
   "cell_type": "code",
   "execution_count": 184,
   "metadata": {},
   "outputs": [],
   "source": [
    "test_data={'stations':{'2094266776': {'type': 'station',\n",
    "  'next_stops': ['55189765',\n",
    "   '2094266781',\n",
    "   '2094266782',\n",
    "   '4655287361',\n",
    "   '3824719830',\n",
    "   '735967926'],\n",
    "  'lat': 52.5216433,\n",
    "  'lng': 13.4140891}}}"
   ]
  },
  {
   "cell_type": "code",
   "execution_count": 46,
   "metadata": {},
   "outputs": [],
   "source": [
    "g=ox.core.graph_from_point((52.5216433,13.4140891), distance=100)"
   ]
  },
  {
   "cell_type": "code",
   "execution_count": 47,
   "metadata": {},
   "outputs": [],
   "source": [
    "central_node=get_central_node(g,52.5216433,13.4140891)"
   ]
  },
  {
   "cell_type": "code",
   "execution_count": 138,
   "metadata": {},
   "outputs": [
    {
     "data": {
      "text/plain": [
       "3810179831"
      ]
     },
     "execution_count": 138,
     "metadata": {},
     "output_type": "execute_result"
    }
   ],
   "source": [
    "central_node"
   ]
  },
  {
   "cell_type": "code",
   "execution_count": 187,
   "metadata": {},
   "outputs": [
    {
     "name": "stdout",
     "output_type": "stream",
     "text": [
      "[4934187009, 2777153538, 4397315896, 2095738481, 2777153441, 2777153451, 2777025998, 2777153497, 3810179814, 3810179816, 2777026033, 3810179831, 3810179832, 4934187007]\n"
     ]
    }
   ],
   "source": [
    "process_graph_test(g,test_data,central_node)\n"
   ]
  },
  {
   "cell_type": "code",
   "execution_count": 188,
   "metadata": {},
   "outputs": [
    {
     "data": {
      "text/plain": [
       "3810179831"
      ]
     },
     "execution_count": 188,
     "metadata": {},
     "output_type": "execute_result"
    }
   ],
   "source": [
    "central_node"
   ]
  },
  {
   "cell_type": "code",
   "execution_count": 189,
   "metadata": {},
   "outputs": [
    {
     "data": {
      "text/plain": [
       "{'stations': {'2094266776': {'type': 'station',\n",
       "   'next_stops': ['55189765',\n",
       "    '2094266781',\n",
       "    '2094266782',\n",
       "    '4655287361',\n",
       "    '3824719830',\n",
       "    '735967926'],\n",
       "   'lat': 52.5216433,\n",
       "   'lng': 13.4140891},\n",
       "  '4934187009': {'type': 'street',\n",
       "   'lat': 52.5217286,\n",
       "   'lng': 13.4140343,\n",
       "   'next_stops': [3810179832, 3810179831, 2095738481]},\n",
       "  '4917707293': {'type': 'street',\n",
       "   'lat': 52.521624,\n",
       "   'lng': 13.4142698,\n",
       "   'next_stops': [2095738480, 5867575839]},\n",
       "  '5867575839': {'type': 'street',\n",
       "   'lat': 52.5215679,\n",
       "   'lng': 13.4141504,\n",
       "   'next_stops': [4917707293]},\n",
       "  '3527851368': {'type': 'street',\n",
       "   'lat': 52.520808,\n",
       "   'lng': 13.4147409,\n",
       "   'next_stops': [3527851370]},\n",
       "  '3527851370': {'type': 'street',\n",
       "   'lat': 52.5207676,\n",
       "   'lng': 13.4146979,\n",
       "   'next_stops': [3527851368, 3527851375]},\n",
       "  '3527851375': {'type': 'street',\n",
       "   'lat': 52.5209506,\n",
       "   'lng': 13.4136317,\n",
       "   'next_stops': [2777153445, 3527851370]},\n",
       "  '2095738480': {'type': 'street',\n",
       "   'lat': 52.5216604,\n",
       "   'lng': 13.4142267,\n",
       "   'next_stops': [4917707293, 4934187005, 4947074226]},\n",
       "  '2777153445': {'type': 'street',\n",
       "   'lat': 52.5212928,\n",
       "   'lng': 13.4134133,\n",
       "   'next_stops': [2777153451, 2777153497, 3527851375]},\n",
       "  '2777153451': {'type': 'street',\n",
       "   'lat': 52.5212414,\n",
       "   'lng': 13.4131491,\n",
       "   'next_stops': [2777153441, 2777153497]},\n",
       "  '4947074226': {'type': 'street',\n",
       "   'lat': 52.5215941,\n",
       "   'lng': 13.4142048,\n",
       "   'next_stops': [2777153528, 2095738480]},\n",
       "  '2777153497': {'type': 'street',\n",
       "   'lat': 52.5214758,\n",
       "   'lng': 13.4136329,\n",
       "   'next_stops': [2777153451, 3810179831]},\n",
       "  '2777153528': {'type': 'street',\n",
       "   'lat': 52.5216126,\n",
       "   'lng': 13.4141813,\n",
       "   'next_stops': [3810179831, 4947074226]},\n",
       "  '3810179831': {'type': 'street',\n",
       "   'lat': 52.5216906,\n",
       "   'lng': 13.4140824,\n",
       "   'next_stops': [4934187009, 2777153497]},\n",
       "  '4934187005': {'type': 'street',\n",
       "   'lat': 52.5214857,\n",
       "   'lng': 13.4139709,\n",
       "   'next_stops': [2095738480]},\n",
       "  '2777153538': {'type': 'street',\n",
       "   'lat': 52.5216307,\n",
       "   'lng': 13.4137882,\n",
       "   'next_stops': [4934187007, 4397315896, 3810179832]},\n",
       "  '4397315896': {'type': 'street',\n",
       "   'lat': 52.5216607,\n",
       "   'lng': 13.4137478,\n",
       "   'next_stops': [2777153538]},\n",
       "  '2095738481': {'type': 'street',\n",
       "   'lat': 52.5217633,\n",
       "   'lng': 13.4140397,\n",
       "   'next_stops': [4934187007, 4934187009]},\n",
       "  '2777153441': {'type': 'street',\n",
       "   'lat': 52.5210889,\n",
       "   'lng': 13.4128344,\n",
       "   'next_stops': [2777153451, 2777026033]},\n",
       "  '2777025998': {'type': 'street',\n",
       "   'lat': 52.5208673,\n",
       "   'lng': 13.4128675,\n",
       "   'next_stops': [3810179814]},\n",
       "  '3810179814': {'type': 'street',\n",
       "   'lat': 52.5209519,\n",
       "   'lng': 13.4127558,\n",
       "   'next_stops': [3810179816, 2777025998]},\n",
       "  '3810179816': {'type': 'street',\n",
       "   'lat': 52.5210062,\n",
       "   'lng': 13.4126741,\n",
       "   'next_stops': [2777026033, 3810179814]},\n",
       "  '2777026033': {'type': 'street',\n",
       "   'lat': 52.521049,\n",
       "   'lng': 13.4127517,\n",
       "   'next_stops': [3810179816, 2777153441]},\n",
       "  '3810179832': {'type': 'street',\n",
       "   'lat': 52.5217398,\n",
       "   'lng': 13.4140201,\n",
       "   'next_stops': [4934187009, 2777153538]},\n",
       "  '4934187007': {'type': 'street',\n",
       "   'lat': 52.5216134,\n",
       "   'lng': 13.4138102,\n",
       "   'next_stops': [2777153538, 2095738481]}}}"
      ]
     },
     "execution_count": 189,
     "metadata": {},
     "output_type": "execute_result"
    }
   ],
   "source": [
    "test_data    "
   ]
  },
  {
   "cell_type": "code",
   "execution_count": 77,
   "metadata": {},
   "outputs": [
    {
     "data": {
      "text/plain": [
       "0"
      ]
     },
     "execution_count": 77,
     "metadata": {},
     "output_type": "execute_result"
    }
   ],
   "source": [
    "[1,2].index(1)"
   ]
  },
  {
   "cell_type": "code",
   "execution_count": 78,
   "metadata": {},
   "outputs": [],
   "source": [
    "del[1,2][1]"
   ]
  },
  {
   "cell_type": "code",
   "execution_count": 94,
   "metadata": {},
   "outputs": [
    {
     "name": "stdout",
     "output_type": "stream",
     "text": [
      "[1, 2]\n"
     ]
    },
    {
     "ename": "IndexError",
     "evalue": "list index out of range",
     "output_type": "error",
     "traceback": [
      "\u001b[0;31m---------------------------------------------------------------------------\u001b[0m",
      "\u001b[0;31mIndexError\u001b[0m                                Traceback (most recent call last)",
      "\u001b[0;32m<ipython-input-94-02e41c07f2be>\u001b[0m in \u001b[0;36m<module>\u001b[0;34m\u001b[0m\n\u001b[1;32m      1\u001b[0m \u001b[0mt\u001b[0m\u001b[0;34m=\u001b[0m\u001b[0;34m[\u001b[0m\u001b[0;36m1\u001b[0m\u001b[0;34m,\u001b[0m\u001b[0;36m2\u001b[0m\u001b[0;34m]\u001b[0m\u001b[0;34m\u001b[0m\u001b[0;34m\u001b[0m\u001b[0m\n\u001b[1;32m      2\u001b[0m \u001b[0;32mfor\u001b[0m \u001b[0mi\u001b[0m \u001b[0;32min\u001b[0m \u001b[0;34m[\u001b[0m\u001b[0;36m0\u001b[0m\u001b[0;34m,\u001b[0m\u001b[0;36m1\u001b[0m\u001b[0;34m]\u001b[0m\u001b[0;34m:\u001b[0m\u001b[0;34m\u001b[0m\u001b[0;34m\u001b[0m\u001b[0m\n\u001b[0;32m----> 3\u001b[0;31m     \u001b[0mprint\u001b[0m\u001b[0;34m(\u001b[0m\u001b[0;34m[\u001b[0m\u001b[0mt\u001b[0m\u001b[0;34m]\u001b[0m\u001b[0;34m[\u001b[0m\u001b[0mi\u001b[0m\u001b[0;34m]\u001b[0m\u001b[0;34m)\u001b[0m\u001b[0;34m\u001b[0m\u001b[0;34m\u001b[0m\u001b[0m\n\u001b[0m",
      "\u001b[0;31mIndexError\u001b[0m: list index out of range"
     ]
    }
   ],
   "source": [
    "def prune_nodes(central_node,nodes, adj_list,lat_n_longs,n_paths=20, max_hops=20):\n",
    "    start = central_node\n",
    "    nodes_on_paths = []\n",
    "    \n",
    "    for i in range(n_paths):\n",
    "        current_paths=[]\n",
    "        hop =0\n",
    "        hops = max_hops\n",
    "        current_node = start\n",
    "        while hop <= hops:\n",
    "            node_index = nodes.index(current_node)\n",
    "            try:\n",
    "                next_node = np.random.choice(list(adj_list[node_index][1].keys()))\n",
    "                current_paths.append(current_node)\n",
    "                current_node = next_node\n",
    "                hop = hop+1\n",
    "            except:\n",
    "                ValueError\n",
    "            finally:\n",
    "                break\n",
    "        print(current_paths)\n",
    "        nodes_on_paths.append(current_paths)\n",
    "    \n",
    "    set_path=set(inner for outer in nodes_on_paths for inner in outer)\n",
    "    \n",
    "    nodes_to_keep = [node for node in nodes if node in set_path]\n",
    "    nodes_to_keep_indexes = [nodes.index(node) for node in nodes_to_keep]\n",
    "    pruned_adj_list = [adj_list[index] for index in nodes_to_keep_indexes]\n",
    "    pruned_lat_n_longs = [lat_n_longs[index] for index in nodes_to_keep_indexes]\n",
    "    \n",
    "    return nodes_to_keep,pruned_adj_list,pruned_lat_n_longs\n",
    "    \n",
    "\n",
    "\n",
    "def process_graph(graph, data_dict,central_node,n_paths=2,max_hops=20):\n",
    "    \"\"\"process a single graph, getting all adjacent nodes and\n",
    "    and add them to a the dictionary mapping the stations\"\"\"\n",
    "\n",
    "    #     getting all information from the graph object\n",
    "    zipper = get_neighbourhood(graph)\n",
    "    nodes = list(graph.nodes)\n",
    "    lat_n_longs = list(zipper)\n",
    "    adj_list = list(graph.adjacency())\n",
    "\n",
    "\n",
    "    nodes,adj_list,lat_n_longs=prune_nodes(central_node,nodes,adj_list,lat_n_longs,n_paths,max_hops)\n",
    "\n",
    "    #     mapping adjacent streets\n",
    "    for i, node in enumerate(nodes):\n",
    "        data_dict[\"stations\"][str(node)] = {}\n",
    "        data_dict[\"stations\"][str(node)][\"type\"] = \"street\"\n",
    "        data_dict[\"stations\"][str(node)][\"lat\"] = lat_n_longs[i][0]\n",
    "        data_dict[\"stations\"][str(node)][\"lng\"] = lat_n_longs[i][1]\n",
    "        next_stops = list(map(str, adj_list[i][1].keys()))\n",
    "        # data_dict[\"stations\"][str(node)][\"next_stops\"] = next_stops\n",
    "        data_dict['stations'][str(node)]['next_stops'] = [stop for stop in next_stops if stop in nodes]x"
   ]
  },
  {
   "cell_type": "code",
   "execution_count": 193,
   "metadata": {},
   "outputs": [],
   "source": [
    "t=[(735967926, {2938442114: {0: {'osmid': 19801554, 'oneway': True, 'lanes': '2', 'name': 'Alexanderstraße', 'highway': 'secondary', 'maxspeed': '50', 'length': 25.962}}, 768038173: {0: {'osmid': [309155392, 316092515, 718140761, 710761402, 30826268], 'oneway': True, 'lanes': ['2', '3'], 'ref': 'B 1', 'name': 'Grunerstraße', 'highway': 'primary', 'maxspeed': '50', 'length': 125.453}}})]"
   ]
  },
  {
   "cell_type": "code",
   "execution_count": 198,
   "metadata": {},
   "outputs": [
    {
     "data": {
      "text/plain": [
       "dict_keys([2938442114, 768038173])"
      ]
     },
     "execution_count": 198,
     "metadata": {},
     "output_type": "execute_result"
    }
   ],
   "source": [
    "t[0][1].keys()"
   ]
  },
  {
   "cell_type": "code",
   "execution_count": null,
   "metadata": {},
   "outputs": [],
   "source": []
  }
 ],
 "metadata": {
  "kernelspec": {
   "display_name": "virus",
   "language": "python",
   "name": "wirvsvirus"
  },
  "language_info": {
   "codemirror_mode": {
    "name": "ipython",
    "version": 3
   },
   "file_extension": ".py",
   "mimetype": "text/x-python",
   "name": "python",
   "nbconvert_exporter": "python",
   "pygments_lexer": "ipython3",
   "version": "3.7.4"
  }
 },
 "nbformat": 4,
 "nbformat_minor": 2
}
